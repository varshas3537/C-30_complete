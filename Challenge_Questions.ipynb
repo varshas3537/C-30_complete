{
  "nbformat": 4,
  "nbformat_minor": 0,
  "metadata": {
    "colab": {
      "provenance": [],
      "include_colab_link": true
    },
    "kernelspec": {
      "name": "python3",
      "display_name": "Python 3"
    },
    "language_info": {
      "name": "python"
    }
  },
  "cells": [
    {
      "cell_type": "markdown",
      "metadata": {
        "id": "view-in-github",
        "colab_type": "text"
      },
      "source": [
        "<a href=\"https://colab.research.google.com/github/varshas3537/C-30_complete/blob/main/Challenge_Questions.ipynb\" target=\"_parent\"><img src=\"https://colab.research.google.com/assets/colab-badge.svg\" alt=\"Open In Colab\"/></a>"
      ]
    },
    {
      "cell_type": "markdown",
      "source": [
        "Question 10\n",
        "\n",
        "The program asks the user to input the number of letters in the alphabet. The program must then output whether they got it correct or not."
      ],
      "metadata": {
        "id": "jyroVirJ7cJ1"
      }
    },
    {
      "cell_type": "code",
      "source": [],
      "metadata": {
        "id": "MtKRPNkoYz5w"
      },
      "execution_count": null,
      "outputs": []
    },
    {
      "cell_type": "code",
      "source": [
        "if int(input('How many letters are in the alphabet? '))==26 :\n",
        "  print('Correct')\n",
        "else :\n",
        "  print('Wrong')"
      ],
      "metadata": {
        "colab": {
          "base_uri": "https://localhost:8080/"
        },
        "id": "3GHnt2fq-ib3",
        "outputId": "7e996375-6cfa-457d-bb28-7812860cfca8"
      },
      "execution_count": null,
      "outputs": [
        {
          "output_type": "stream",
          "name": "stdout",
          "text": [
            "How many letters are in the alphabet? 26\n",
            "Correct\n"
          ]
        }
      ]
    },
    {
      "cell_type": "markdown",
      "source": [
        "Question 11\n",
        "\n",
        "The program asks the user to input 2 numbers. It will then output the larger of these 2 numbers."
      ],
      "metadata": {
        "id": "Kkqp2b-w-wOu"
      }
    },
    {
      "cell_type": "code",
      "source": [
        "input1=int(input('Number 1: '))\n",
        "input2=int(input('Number 2: '))\n",
        "if input1>input2 :\n",
        "  print(input1)\n",
        "elif input2>input1 :\n",
        "  print(input2)"
      ],
      "metadata": {
        "colab": {
          "base_uri": "https://localhost:8080/"
        },
        "id": "laspAJB---K7",
        "outputId": "4210b6e8-5d91-4ff1-84cd-fdb5548247dc"
      },
      "execution_count": null,
      "outputs": [
        {
          "output_type": "stream",
          "name": "stdout",
          "text": [
            "Number 1: 2\n",
            "Number 2: 1\n",
            "2\n"
          ]
        }
      ]
    },
    {
      "cell_type": "markdown",
      "source": [
        "Question 12\n",
        "\n",
        "Write an algorithm that:\n",
        "*  Generates a random number between 1 and 10\n",
        "*  It must then ask the user to guess this number\n",
        "*  If they guess it correctly it should display 'Correct'\n",
        "*  Otherwise display 'Not what I was thinking'"
      ],
      "metadata": {
        "id": "eQZPTJz4_UUX"
      }
    },
    {
      "cell_type": "code",
      "source": [
        "import random\n",
        "\n",
        "randomNumber=random.randint(1,10)\n",
        "guess=int(input('Guess a number between 1 and 10: '))\n",
        "if guess==randomNumber :\n",
        "  print('Correct')\n",
        "else :\n",
        "  print('Not what I was thinking')"
      ],
      "metadata": {
        "colab": {
          "base_uri": "https://localhost:8080/"
        },
        "id": "3vSsVO-p_w_7",
        "outputId": "339adfee-0af7-40a7-8884-6322964c2349"
      },
      "execution_count": null,
      "outputs": [
        {
          "output_type": "stream",
          "name": "stdout",
          "text": [
            "Guess a number between 1 and 10: 1\n",
            "Correct\n"
          ]
        }
      ]
    },
    {
      "cell_type": "markdown",
      "source": [
        "Question 13\n",
        "\n",
        "A company calculates holiday allowance for employees.\n",
        "The company gives each employee 28 days of holiday each year. Holidays are awarded based on the following rules:\n",
        "1. Full-time employees who work 5 days a week get 28 days of holiday a year\n",
        "2. Part time employees get a proportion of holiday allowance based on how many days they work, e.g. An employee who works 1 day a week would only get 1/5th of the holidays allowed"
      ],
      "metadata": {
        "id": "X03V6KCV4AbF"
      }
    },
    {
      "cell_type": "code",
      "source": [
        "workingDays=int(input('Enter the number of days you work in a week: '))\n",
        "print(workingDays/5*28)"
      ],
      "metadata": {
        "id": "1GLTZ8MP4A9R",
        "colab": {
          "base_uri": "https://localhost:8080/"
        },
        "outputId": "4da9e4a9-40ae-49b1-9d65-bf4359676f89"
      },
      "execution_count": null,
      "outputs": [
        {
          "output_type": "stream",
          "name": "stdout",
          "text": [
            "Enter the number of days you work in a week: 5\n",
            "28.0\n"
          ]
        }
      ]
    },
    {
      "cell_type": "markdown",
      "source": [
        "Question 14\n",
        "\n",
        "Write an algorithm that:\n",
        "*   Asks the user to input the traffic light color\n",
        "*   If the traffic light is green, output 'GO'\n",
        "*   If the traffic light is amber, it outputs 'Get ready'\n",
        "*   Otherwise output 'Stop'"
      ],
      "metadata": {
        "id": "W9ogHmS44BVe"
      }
    },
    {
      "cell_type": "code",
      "source": [],
      "metadata": {
        "id": "T65lKhmv4Bx4"
      },
      "execution_count": null,
      "outputs": []
    },
    {
      "cell_type": "markdown",
      "source": [
        "Question 15\n",
        "\n",
        "Write a program that:\n",
        "*   Asks the user to name one of the Olympic Values(Respect, Excellence, Friendship)\n",
        "*   If they correctly name one, output 'thats correct'\n",
        "*   Otherwise outputs 'incorrect'"
      ],
      "metadata": {
        "id": "Go-8xzk06u-A"
      }
    },
    {
      "cell_type": "code",
      "execution_count": null,
      "metadata": {
        "id": "mrpbLFep6l4n"
      },
      "outputs": [],
      "source": [
        "correctInputs=['respect','excellence','friendship']\n",
        "questionInput=input('What is one of the Olympic Values? ').lower()\n",
        "if questionInput in correctInputs :\n",
        "  print(\"That's correct\")\n",
        "else :\n",
        "  print('Incorrect')"
      ]
    },
    {
      "cell_type": "markdown",
      "source": [
        "Question 16\n",
        "\n",
        "Write an algorithm that:\n",
        "*   Asks the user how long on average they spend watching TV everyday\n",
        "*   If its less than 2 hours, output 'thats okay'\n",
        "*   If its between 2 and 4 hours, output 'that will rot your brain'\n",
        "*   If its more than 4, output 'that is too much TV'\n"
      ],
      "metadata": {
        "id": "BUdyXdaz6_Lz"
      }
    },
    {
      "cell_type": "code",
      "source": [
        "watchtime=int(input('How long(minutes) on average do you spend watching TV everyday? '))\n",
        "if watchtime<=120 :\n",
        "  print('That is okay')\n",
        "elif watchtime>120 and watchtime<240 :\n",
        "  print('That will rot your brain')\n",
        "elif watchtime>240 :\n",
        "  print('That is too much TV')"
      ],
      "metadata": {
        "id": "IqPoVKwl7DYt"
      },
      "execution_count": null,
      "outputs": []
    },
    {
      "cell_type": "markdown",
      "source": [
        "Question 17\n",
        "\n",
        "Write an algorithm that outputs all numbers between 1 and 10 only"
      ],
      "metadata": {
        "id": "RWD5seNo7FuL"
      }
    },
    {
      "cell_type": "code",
      "source": [
        "for i in range(2,10) :\n",
        "  print(i)"
      ],
      "metadata": {
        "colab": {
          "base_uri": "https://localhost:8080/"
        },
        "id": "PnoKzum_7Tac",
        "outputId": "24ac459f-3dd2-49d8-c315-937c7b09d2f0"
      },
      "execution_count": null,
      "outputs": [
        {
          "output_type": "stream",
          "name": "stdout",
          "text": [
            "2\n",
            "3\n",
            "4\n",
            "5\n",
            "6\n",
            "7\n",
            "8\n",
            "9\n"
          ]
        }
      ]
    },
    {
      "cell_type": "code",
      "source": [],
      "metadata": {
        "colab": {
          "base_uri": "https://localhost:8080/"
        },
        "id": "2XNkemTpY2sK",
        "outputId": "ca200384-9685-475c-a227-bac17f8fca9c"
      },
      "execution_count": 3,
      "outputs": [
        {
          "output_type": "stream",
          "name": "stdout",
          "text": [
            "{'U18': 1, 'Senior': 2, 'Vet': 1}\n"
          ]
        }
      ]
    },
    {
      "cell_type": "code",
      "source": [],
      "metadata": {
        "colab": {
          "base_uri": "https://localhost:8080/"
        },
        "id": "lt72rkxZZJSv",
        "outputId": "9d939cad-233d-44bc-f39e-a016db4c467d"
      },
      "execution_count": 5,
      "outputs": [
        {
          "output_type": "stream",
          "name": "stdout",
          "text": [
            "The human equivalent of a 5-year-old dog is 42 years.\n"
          ]
        }
      ]
    },
    {
      "cell_type": "code",
      "source": [],
      "metadata": {
        "colab": {
          "base_uri": "https://localhost:8080/"
        },
        "id": "x-ukeOfmZcVK",
        "outputId": "573d0184-d0c1-4e75-b79f-be6614a22ffe"
      },
      "execution_count": 7,
      "outputs": [
        {
          "output_type": "stream",
          "name": "stdout",
          "text": [
            "The cost of the journey is £31.5.\n"
          ]
        }
      ]
    },
    {
      "cell_type": "code",
      "source": [
        "# Challenge 20: Loyalty reward system for MyHotPizza\n",
        "def loyalty_card(customers):\n",
        "    for customer in customers:\n",
        "        large, medium, small = customer[1], customer[2], customer[3]\n",
        "        total_pizzas = large + medium + small\n",
        "\n",
        "        # Check if the customer needs a loyalty card\n",
        "        if total_pizzas > 20 and customer[4] == \"No\":\n",
        "            print(f\"Sending loyalty card to {customer[0]}\")\n",
        "            customer[4] = \"Yes\"  # Update the card status\n",
        "        elif total_pizzas <= 20 and customer[4] == \"Yes\":\n",
        "            print(f\"Removing {customer[0]}'s loyalty card.\")\n",
        "            customer[4] = \"No\"  # Update the card status\n",
        "\n",
        "# Sample customer list\n",
        "customers = [\n",
        "    ['Smith, J', 5, 6, 1, \"No\"],\n",
        "    ['Williams, P', 10, 12, 3, \"Yes\"]\n",
        "]\n",
        "\n",
        "loyalty_card(customers)\n",
        "\n",
        "\n"
      ],
      "metadata": {
        "colab": {
          "base_uri": "https://localhost:8080/"
        },
        "id": "748IFG97Z99m",
        "outputId": "2319dc2a-b574-4d48-cd83-580fb6f8a175"
      },
      "execution_count": null,
      "outputs": [
        {
          "output_type": "stream",
          "name": "stdout",
          "text": [
            "A member aged 14 receives a 30% discount.\n",
            "A member aged 18 receives a 20% discount.\n",
            "A member aged 51 receives a 40% discount.\n",
            "A member aged 12 receives a 0% discount.\n"
          ]
        }
      ]
    },
    {
      "cell_type": "code",
      "source": [
        "# Challenge 21: Discounts for swimming centre\n",
        "def calculate_discount(age):\n",
        "    if 13 <= age <= 15:\n",
        "        discount = 30\n",
        "    elif 16 <= age <= 20:\n",
        "        discount = 20\n",
        "    elif age >= 50:\n",
        "        discount = 40\n",
        "    else:\n",
        "        discount = 0\n",
        "    return discount\n",
        "\n",
        "# Sample ages to test\n",
        "ages = [14, 18, 51, 12]\n",
        "for age in ages:\n",
        "    print(f\"A member aged {age} receives a {calculate_discount(age)}% discount.\")\n",
        "\n",
        "\n"
      ],
      "metadata": {
        "id": "98gBNNsNaW2t"
      },
      "execution_count": null,
      "outputs": []
    },
    {
      "cell_type": "code",
      "source": [
        "# Challenge 22: Grade conversion\n",
        "def grade_conversion(marks):\n",
        "    if marks >= 10 and marks < 20:\n",
        "        return 1\n",
        "    elif marks >= 20 and marks < 30:\n",
        "        return 2\n",
        "    elif marks >= 30:\n",
        "        return 3\n",
        "    elif marks >= 40:\n",
        "        return 4\n",
        "    elif marks >= 50:\n",
        "        return 5\n",
        "    elif marks >= 60:\n",
        "        return 6\n",
        "    elif marks >= 70:\n",
        "        return 7\n",
        "    elif marks >= 80:\n",
        "        return 8\n",
        "    elif marks >= 90:\n",
        "        return 9\n",
        "    else:\n",
        "        return 'U'  # Indicates ungraded\n",
        "\n",
        "# Ask the user for marks\n",
        "user_marks = int(input(\"Enter your marks: \"))\n",
        "grade = grade_conversion(user_marks)\n",
        "print(f\"Your grade is: {grade}\")"
      ],
      "metadata": {
        "id": "DC8_ow0Eaac2"
      },
      "execution_count": null,
      "outputs": []
    },
    {
      "cell_type": "code",
      "source": [],
      "metadata": {
        "id": "n54POXV7af9g"
      },
      "execution_count": null,
      "outputs": []
    },
    {
      "cell_type": "code",
      "source": [
        "import random\n",
        "\n",
        "# Challenge 23: Coin conversion algorithm\n",
        "def coin_conversion():\n",
        "    # Ask the user for the amount of money\n",
        "    money = float(input(\"Enter the amount of money you want to convert: £\"))\n",
        "\n",
        "    # Ask the user which coin they want to use for conversion\n",
        "    print(\"Select a coin to convert:\")\n",
        "    print(\"1. £1\")\n",
        "    print(\"2. 50p\")\n",
        "    print(\"3. 20p\")\n",
        "    print(\"4. 10p\")\n",
        "    print(\"5. 5p\")\n",
        "    print(\"6. 2p\")\n",
        "    coin_choice = int(input(\"Enter the number for your choice (1-6): \"))\n",
        "\n",
        "    # Determine the value of the selected coin\n",
        "    if coin_choice == 1:\n",
        "        coin_value = 1.0  # £1\n",
        "    elif coin_choice == 2:\n",
        "        coin_value = 0.5  # 50p\n",
        "    elif coin_choice == 3:\n",
        "        coin_value = 0.2  # 20p\n",
        "    elif coin_choice == 4:\n",
        "        coin_value = 0.1  # 10p\n",
        "    elif coin_choice == 5:\n",
        "        coin_value = 0.05  # 5p\n",
        "    elif coin_choice == 6:\n",
        "        coin_value = 0.02  # 2p\n",
        "    else:\n",
        "        print(\"Invalid choice.\")\n",
        "        return\n",
        "\n",
        "    # Calculate how many of the selected coins can be given\n",
        "    coins_given = int(money / coin_value)\n",
        "    print(f\"You will receive {coins_given} coins of {coin_choice}.\")\n",
        "\n",
        "coin_conversion()\n",
        "\n",
        "\n"
      ],
      "metadata": {
        "id": "QsWrG0BpZoL0"
      },
      "execution_count": null,
      "outputs": []
    },
    {
      "cell_type": "code",
      "source": [
        "# Challenge 24: Rock, Paper, Scissors game\n",
        "def rock_paper_scissors():\n",
        "    # Randomly generate the computer's choice\n",
        "    options = ['rock', 'paper', 'scissors']\n",
        "    computer_choice = random.choice(options)\n",
        "\n",
        "    # Ask the user for their choice\n",
        "    user_choice = input(\"Enter your choice (rock/paper/scissors): \").lower()\n",
        "\n",
        "    # Check for tie\n",
        "    if computer_choice == user_choice:\n",
        "        print(\"Game Tied!\")\n",
        "    elif (computer_choice == 'rock' and user_choice == 'scissors') or \\\n",
        "         (computer_choice == 'paper' and user_choice == 'rock') or \\\n",
        "         (computer_choice == 'scissors' and user_choice == 'paper'):\n",
        "        print(\"Computer Wins!\")\n",
        "    else:\n",
        "        print(\"You Win!\")\n",
        "\n",
        "rock_paper_scissors()"
      ],
      "metadata": {
        "id": "Hn_7ldO6aQs8"
      },
      "execution_count": null,
      "outputs": []
    },
    {
      "cell_type": "code",
      "source": [
        "#   Question 25:Count the number of runners in each Age Category( Sample data from the race)\n",
        "race_file = [\n",
        "    {\"RunnerNumber\": 44345, \"Name\": \"Wilburforce, Emily\", \"AgeCategory\": \"U18\", \"Club\": \"SpeedyClub\"},\n",
        "    {\"RunnerNumber\": 345, \"Name\": \"Chan, Zhu\", \"AgeCategory\": \"Senior\", \"Club\": \"SpeedyClub\"},\n",
        "    {\"RunnerNumber\": 2425, \"Name\": \"Patel, Aisha\", \"AgeCategory\": \"Vet\", \"Club\": \"SpeedyClub\"},\n",
        "    {\"RunnerNumber\": 3552, \"Name\": \"Edwards, Craig\", \"AgeCategory\": \"Senior\", \"Club\": \"LightningFast Runners\"}\n",
        "]\n",
        "\n",
        "def count_age_categories(race_data):\n",
        "    age_count = {}\n",
        "    for runner in race_data:\n",
        "        category = runner[\"AgeCategory\"]\n",
        "        if category in age_count:\n",
        "            age_count[category] += 1\n",
        "        else:\n",
        "            age_count[category] = 1\n",
        "    return age_count\n",
        "\n",
        "# Output the count of runners in each age category\n",
        "age_counts = count_age_categories(race_file)\n",
        "print(age_counts)"
      ],
      "metadata": {
        "id": "QtMhLYaeahIc"
      },
      "execution_count": null,
      "outputs": []
    },
    {
      "cell_type": "code",
      "source": [
        "#Challenge 26:Calculate human equivalent of dog age\n",
        "def calculate_human_equivalent_dog_age(dog_age):\n",
        "    if dog_age <= 2:\n",
        "        human_equivalent = 12 * dog_age\n",
        "    elif dog_age == 2:\n",
        "        human_equivalent = 24\n",
        "    else:\n",
        "        human_equivalent = 24 + (dog_age - 2) * 6\n",
        "    return human_equivalent\n",
        "\n",
        "# Example input\n",
        "dog_age_input = 5\n",
        "human_age = calculate_human_equivalent_dog_age(dog_age_input)\n",
        "print(f\"The human equivalent of a {dog_age_input}-year-old dog is {human_age} years.\")"
      ],
      "metadata": {
        "id": "daBD24MJa4cH"
      },
      "execution_count": null,
      "outputs": []
    },
    {
      "cell_type": "code",
      "source": [
        "#Challenge 27: Calculate the cost of a day-time journey\n",
        "def calculate_taxi_cost(passengers, distance):\n",
        "    base_cost = 3  # cost for the first kilometre\n",
        "    if distance > 1:\n",
        "        additional_cost = 2 * (distance - 1)\n",
        "    else:\n",
        "        additional_cost = 0\n",
        "    total_cost = base_cost + additional_cost\n",
        "\n",
        "    # Add extra charge if there are 5 or more passengers\n",
        "    if passengers >= 5:\n",
        "        total_cost *= 1.5\n",
        "\n",
        "    return total_cost\n",
        "\n",
        "# Example input\n",
        "passenger_count = 6\n",
        "journey_distance = 10\n",
        "cost = calculate_taxi_cost(passenger_count, journey_distance)\n",
        "print(f\"The cost of the journey is £{cost}.\")"
      ],
      "metadata": {
        "id": "xBvsLTrUbFzw"
      },
      "execution_count": null,
      "outputs": []
    },
    {
      "cell_type": "code",
      "source": [
        "#Challenge 28\n",
        "import math\n",
        "\n",
        "def calculate_turf():\n",
        "    # Get dimensions from user\n",
        "    length = float(input(\"Enter the length of the lawn (in meters): \"))\n",
        "    width = float(input(\"Enter the width of the lawn (in meters): \"))\n",
        "    radius = float(input(\"Enter the radius of the circular flower bed (in meters): \"))\n",
        "\n",
        "    # Calculate the area of the lawn and the flower bed\n",
        "    lawn_area = length * width\n",
        "    flower_bed_area = math.pi * (radius ** 2)\n",
        "\n",
        "    # Calculate turf needed\n",
        "    turf_needed = lawn_area - flower_bed_area\n",
        "    print(f\"The amount of turf needed is: {turf_needed:.2f} square meters.\")\n",
        "\n",
        "calculate_turf()"
      ],
      "metadata": {
        "id": "J3VTElnabHM0"
      },
      "execution_count": null,
      "outputs": []
    },
    {
      "cell_type": "code",
      "source": [
        "# Challenge 29:Calculate wages\n",
        "def calculate_wages():\n",
        "    # Get inputs from user\n",
        "    teddy_bears_made = int(input(\"Enter the number of teddy bears made: \"))\n",
        "    hours_worked = float(input(\"Enter the number of hours worked: \"))\n",
        "\n",
        "    # Calculate wages\n",
        "    teddy_bear_wages = teddy_bears_made * 2\n",
        "    hours_worked_wages = hours_worked * 5\n",
        "\n",
        "    # Output the larger of the two results\n",
        "    max_wages = max(teddy_bear_wages, hours_worked_wages)\n",
        "    print(f\"The higher wage is: £{max_wages:.2f}\")\n",
        "\n",
        "calculate_wages()"
      ],
      "metadata": {
        "id": "DELPmxWxbv3g"
      },
      "execution_count": null,
      "outputs": []
    },
    {
      "cell_type": "code",
      "source": [
        "# Challenge 30\n",
        "def is_isosceles():\n",
        "    # Get side lengths from user\n",
        "    length1 = float(input(\"Enter the length of side 1: \"))\n",
        "    length2 = float(input(\"Enter the length of side 2: \"))\n",
        "    length3 = float(input(\"Enter the length of side 3: \"))\n",
        "\n",
        "    # Check if the triangle is isosceles\n",
        "    if length1 == length2 or length1 == length3 or length2 == length3:\n",
        "        print(\"Isosceles\")\n",
        "    else:\n",
        "        print(\"Not Isosceles\")\n",
        "\n",
        "is_isosceles()"
      ],
      "metadata": {
        "id": "N2yj_M3ucOQo"
      },
      "execution_count": null,
      "outputs": []
    },
    {
      "cell_type": "code",
      "source": [
        "#Challenge 31\n",
        "def calculate_average_weight():\n",
        "    num_weights = int(input(\"How many weights do you want to enter? \"))\n",
        "    total_weight = 0\n",
        "\n",
        "    for i in range(num_weights):\n",
        "        weight = int(input(\"Enter a weight: \"))\n",
        "        total_weight += weight\n",
        "\n",
        "    average_weight = total_weight / num_weights\n",
        "    print(f\"Average weight is: {average_weight:.2f}\")\n",
        "\n",
        "calculate_average_weight()"
      ],
      "metadata": {
        "id": "-0ZlpKl6cdwM"
      },
      "execution_count": null,
      "outputs": []
    },
    {
      "cell_type": "code",
      "source": [
        "#Challenge 32\n",
        "def savings_comparison():\n",
        "    amount_to_save = float(input(\"Enter the amount of money you want to save: \"))\n",
        "    num_accounts = int(input(\"Enter the number of bank accounts to compare: \"))\n",
        "\n",
        "    for i in range(num_accounts):\n",
        "        interest_rate = float(input(f\"Enter the interest rate for account {i+1}: \"))\n",
        "        interest = (amount_to_save / 100) * interest_rate\n",
        "        total = amount_to_save + interest\n",
        "        print(f\"Total for account {i+1} is: {total:.2f}\")\n",
        "\n",
        "savings_comparison()"
      ],
      "metadata": {
        "id": "MMpTaSULduMq"
      },
      "execution_count": null,
      "outputs": []
    },
    {
      "cell_type": "code",
      "source": [
        "#Challenge 33\n",
        "def gcse_grades():\n",
        "    num_gcse = int(input(\"How many GCSE's do you have? \"))\n",
        "    results = []\n",
        "\n",
        "    for i in range(num_gcse):\n",
        "        grade = int(input(f\"Enter the result for GCSE {i+1} (0-9): \"))\n",
        "        results.append(grade)\n",
        "\n",
        "    total_points = sum(results)\n",
        "    print(f\"Total points: {total_points}\")\n",
        "\n",
        "    for grade in results:\n",
        "        if grade >= 8:\n",
        "            print(f\"Grade {grade}: You can go to the sixth form\")\n",
        "        elif grade >= 4:\n",
        "            print(f\"Grade {grade}: A discussion is needed\")\n",
        "        else:\n",
        "            print(f\"Grade {grade}: Sorry, not enough points.\")\n",
        "\n",
        "gcse_grades()"
      ],
      "metadata": {
        "id": "kIaf7fGBemHi"
      },
      "execution_count": null,
      "outputs": []
    },
    {
      "cell_type": "code",
      "source": [
        "def free_electric_day():\n",
        "    day_of_week = input(\"Enter the day of the week: \")\n",
        "    units_used = int(input(\"Enter the unit of electric used: \"))\n",
        "\n",
        "    # Example for comparison\n",
        "    if units_used < 50:\n",
        "        print(f\"{day_of_week} will be free of charge.\")\n",
        "    else:\n",
        "        print(f\"{day_of_week} will not be free of charge.\")\n",
        "\n",
        "free_electric_day()"
      ],
      "metadata": {
        "id": "_u243J3zdyRs"
      },
      "execution_count": null,
      "outputs": []
    },
    {
      "cell_type": "code",
      "source": [
        "#Challenge 35\n",
        "def car_trip():\n",
        "    total_cars = int(input(\"How many cars are available for the trip? \"))\n",
        "    people = int(input(\"How many people are going on the trip? \"))\n",
        "\n",
        "    if total_cars * 5 >= people:\n",
        "        print(\"We have enough seats.\")\n",
        "    else:\n",
        "        extra_cars_needed = (people - total_cars * 5 + 4) // 5  # Calculate extra cars needed\n",
        "        print(f\"We do not have enough seats. Another {extra_cars_needed} cars are needed.\")\n",
        "\n",
        "car_trip()"
      ],
      "metadata": {
        "id": "gVNRNPkMe52e"
      },
      "execution_count": null,
      "outputs": []
    },
    {
      "cell_type": "code",
      "source": [
        "# Challenge 36\n",
        "def fuel_cost_calculation():\n",
        "    petrol_price = 1.40\n",
        "    diesel_price = 1.55\n",
        "    lpg_price = 0.95\n",
        "\n",
        "    fuel_type = input(\"Enter the type of fuel (petrol, diesel, lpg): \").strip().lower()\n",
        "    litres = float(input(\"Enter the number of litres: \"))\n",
        "\n",
        "    if fuel_type == \"petrol\":\n",
        "        total_cost = petrol_price * litres\n",
        "    elif fuel_type == \"diesel\":\n",
        "        total_cost = diesel_price * litres\n",
        "    elif fuel_type == \"lpg\":\n",
        "        total_cost = lpg_price * litres\n",
        "    else:\n",
        "        print(\"Invalid fuel type.\")\n",
        "        return\n",
        "\n",
        "    money_paid = float(input(\"How much money have you handed over? \"))\n",
        "    change_due = money_paid - total_cost\n",
        "\n",
        "    loyalty_card = input(\"Do you have a loyalty card? (yes/no): \").strip().lower()\n",
        "    bonus_points = 0\n",
        "\n",
        "    if loyalty_card == \"yes\":\n",
        "        points =int(input(\"Enter total points accumulated: \"))\n",
        "        points_needed = litres * 1\n",
        "\n",
        "        if points < points_needed:\n",
        "            bonus_points = points_needed - points\n",
        "\n",
        "        if points > 100:\n",
        "            bonus_points += int(bonus_points * 0.10)\n",
        "\n",
        "        print(f\"Total points to add: {bonus_points}\")\n",
        "\n",
        "    print(f\"Change due: ${change_due:.2f}\")\n",
        "\n",
        "fuel_cost_calculation()"
      ],
      "metadata": {
        "id": "1mrRodHafEiL"
      },
      "execution_count": null,
      "outputs": []
    },
    {
      "cell_type": "code",
      "source": [
        "#Challenge 37\n",
        "def drinks_machine():\n",
        "    print(\"Please enter your choice between 1 and 20.\")\n",
        "\n",
        "    while True:\n",
        "        choice = input(\"Enter your selection (1-20): \")\n",
        "\n",
        "        if choice.isdigit() and 1 <= int(choice) <= 20:\n",
        "            print(f\"You have chosen drink number {choice}. Please press OK to confirm.\")\n",
        "            confirmation = input(\"Press OK to confirm, or CANCEL to start over: \").strip().upper()\n",
        "\n",
        "            if confirmation == \"OK\":\n",
        "                print(f\"Dispensing drink number {choice}. Enjoy!\")\n",
        "                break\n",
        "            elif confirmation == \"CANCEL\":\n",
        "                print(\"Selection cancelled. Please start again.\")\n",
        "        else:\n",
        "            print(\"Invalid selection. Please choose a number between 1 and 20.\")\n",
        "\n",
        "drinks_machine()"
      ],
      "metadata": {
        "id": "KN8zQdCsfkpn"
      },
      "execution_count": null,
      "outputs": []
    },
    {
      "cell_type": "code",
      "source": [
        "\n"
      ],
      "metadata": {
        "id": "TqqQtpfqfH5F"
      },
      "execution_count": null,
      "outputs": []
    },
    {
      "cell_type": "code",
      "source": [],
      "metadata": {
        "id": "0HNZHd-rfzQw"
      },
      "execution_count": null,
      "outputs": []
    }
  ]
}